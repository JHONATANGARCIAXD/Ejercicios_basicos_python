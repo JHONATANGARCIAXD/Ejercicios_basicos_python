{
  "nbformat": 4,
  "nbformat_minor": 0,
  "metadata": {
    "colab": {
      "provenance": [],
      "authorship_tag": "ABX9TyMeTyHiQ93YQ8H72/ZKaEpG",
      "include_colab_link": true
    },
    "kernelspec": {
      "name": "python3",
      "display_name": "Python 3"
    },
    "language_info": {
      "name": "python"
    }
  },
  "cells": [
    {
      "cell_type": "markdown",
      "metadata": {
        "id": "view-in-github",
        "colab_type": "text"
      },
      "source": [
        "<a href=\"https://colab.research.google.com/github/JHONATANGARCIAXD/Ejercicios_basicos_python/blob/main/ejercicios1.ipynb\" target=\"_parent\"><img src=\"https://colab.research.google.com/assets/colab-badge.svg\" alt=\"Open In Colab\"/></a>"
      ]
    },
    {
      "cell_type": "markdown",
      "source": [
        "# EJERCICIOS BÁSICOS DE PYTHON\n",
        "\n",
        "1. Suma de dos Números\n",
        "2. Potencia de un Número "
      ],
      "metadata": {
        "id": "-6lirq7JiZAD"
      }
    },
    {
      "cell_type": "code",
      "source": [
        "# SUMA DE DOS NÚMEROS ENTEROS\n",
        "\n",
        "print(\"----------------------------\")\n",
        "print(\"----SUMA DE DOS ENTEROS-----\")\n",
        "print(\"----------------------------\")\n",
        "\n",
        "\n",
        "\n",
        "# input\n",
        "\n",
        "x= int(input(\"Digite el valor de x: \"))\n",
        "y = int(input(\"Digite el valor de y: \"))\n",
        "\n",
        "# Processing\n",
        "\n",
        "z= x+y\n",
        "\n",
        "# output\n",
        "\n",
        "print(\"La suma de \",x,\" + \", y, \"es\", z)"
      ],
      "metadata": {
        "id": "fm1NbP8NilDt"
      },
      "execution_count": null,
      "outputs": []
    },
    {
      "cell_type": "code",
      "source": [
        "# POTENCIA DE UN NÚMERO\n",
        "\n",
        "print(\"----------------------------\")\n",
        "print(\"----SUMA DE DOS ENTEROS-----\")\n",
        "print(\"----------------------------\")\n",
        "\n",
        "# input\n",
        "x= int(input(\"Digite el valor de x: \"))\n",
        "y = int(input(\"Digite el valor de y: \"))\n",
        "\n",
        "# Processing\n",
        "\n",
        "z= x**y\n",
        "\n",
        "# output\n",
        " \n",
        "print(x, \" ELEVADO A LA \", y, \" es \", z )"
      ],
      "metadata": {
        "id": "qfP1SjLWkdjQ"
      },
      "execution_count": null,
      "outputs": []
    },
    {
      "cell_type": "code",
      "source": [],
      "metadata": {
        "id": "tyzqFVclkjcU"
      },
      "execution_count": null,
      "outputs": []
    }
  ]
}